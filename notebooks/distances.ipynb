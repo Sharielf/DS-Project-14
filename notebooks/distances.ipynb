{
 "cells": [
  {
   "cell_type": "code",
   "execution_count": 1,
   "metadata": {
    "tags": []
   },
   "outputs": [],
   "source": [
    "import pandas as pd\n",
    "import numpy as np\n",
    "from sklearn.feature_extraction.text import TfidfVectorizer\n",
    "from sklearn.metrics.pairwise import linear_kernel, cosine_similarity"
   ]
  },
  {
   "cell_type": "markdown",
   "metadata": {},
   "source": [
    "## Задание 1"
   ]
  },
  {
   "cell_type": "markdown",
   "metadata": {},
   "source": [
    "Открой файл [distances.ipynb](src/notebooks/distances.ipynb). \n",
    "* Объедини общие данные о фильмах [tmdb_5000_movies](https://files.sberdisk.ru/s/te4QbzdxKgsFQXA) и каст фильмов \n",
    "[tmdb_5000_credits](https://files.sberdisk.ru/s/H9oRuXQt5mFz3T9). \n",
    "* Оставь в датасете только фильмы, которые вышли в \"релиз\".\n",
    "* Убери фильмы с пропусками в колонках ['overview', 'genres', 'keywords']\n",
    "* Выведи количество фильмов, оставшихся в выборке "
   ]
  },
  {
   "cell_type": "code",
   "execution_count": 2,
   "metadata": {},
   "outputs": [
    {
     "name": "stdout",
     "output_type": "stream",
     "text": [
      "Количество фильмов, оставшихся в выборке: 4792\n"
     ]
    }
   ],
   "source": [
    "movies_df = pd.read_csv(\"../../datasets/tmdb_5000_movies.csv\")\n",
    "credits_df = pd.read_csv(\"../../datasets/tmdb_5000_credits.csv\")\n",
    "\n",
    "# Объединение данных о фильмах и касте\n",
    "merged_df = pd.merge(movies_df, credits_df, left_on='id', right_on='movie_id')\n",
    "merged_df.rename(columns={'title_x': 'title'}, inplace=True)\n",
    "\n",
    "# Оставляем фильмы, которые вышли в релиз\n",
    "movie_df = merged_df[merged_df[\"status\"] == \"Released\"]\n",
    "\n",
    "# Удаление фильмов с пропусками в колонках 'overview', 'genres', 'keywords'\n",
    "movie_df = movie_df.dropna(subset=['overview', 'genres', 'keywords'])\n",
    "\n",
    "# Вывод количества оставшихся фильмов\n",
    "print(\"Количество фильмов, оставшихся в выборке:\", movie_df.shape[0])"
   ]
  },
  {
   "cell_type": "markdown",
   "metadata": {},
   "source": [
    "## Задание 2"
   ]
  },
  {
   "cell_type": "markdown",
   "metadata": {},
   "source": [
    "Реализуем алгоритм рекомендации на основе описания фильма (`overview`) и ключевых слов к фильму (`keywords`). \n",
    "Объедини тексты этих колонок и проведи предобработку:\n",
    "* Замени NaN в описании фильма на пустой символ `''`\n",
    "* Удали все английские стоп-слова (используй параметр `stop_words` в `TfidfVectorizer`)\n",
    "* Рассчитай матрицу [Tf-Idf](https://scikit-learn.org/stable/modules/generated/sklearn.feature_extraction.text.TfidfVectorizer.html) для описания фильмов.\n",
    "\n",
    "Выведи размер получившейся матрицы\n",
    "> Параметр `max_features` в `TfidfVectorizer` должен быть равен 10000"
   ]
  },
  {
   "cell_type": "code",
   "execution_count": 3,
   "metadata": {},
   "outputs": [
    {
     "name": "stdout",
     "output_type": "stream",
     "text": [
      "Размер матрицы Tf-Idf: (4792, 10000)\n"
     ]
    }
   ],
   "source": [
    "# Замена NaN в описании фильма и ключевых словах на пустой символ\n",
    "movie_df['overview'].fillna('', inplace=True)\n",
    "movie_df['keywords'].fillna('', inplace=True)\n",
    "\n",
    "# Объединение текстов описания и ключевых слов\n",
    "text_data = movie_df['overview'] + ' ' + movie_df['keywords']\n",
    "\n",
    "# Рассчет матрицы Tf-Idf для описания фильмов\n",
    "tfidf = TfidfVectorizer(stop_words='english', max_features=10000)\n",
    "tfidf_matrix = tfidf.fit_transform(text_data)\n",
    "\n",
    "print(\"Размер матрицы Tf-Idf:\", tfidf_matrix.shape)"
   ]
  },
  {
   "cell_type": "markdown",
   "metadata": {},
   "source": [
    "## Задание 3"
   ]
  },
  {
   "cell_type": "markdown",
   "metadata": {},
   "source": [
    "Рассчитай [cosine similarity](https://scikit-learn.org/stable/modules/generated/sklearn.metrics.pairwise.cosine_similarity.html) \n",
    "между фильмами. Составь из этой матрицы `pd.DataFrame`. Для дальнейшего удобства, \n",
    "колонки и индексы таблицы назови согласно`id` фильма. \\\n",
    "Сохрани получившийся `DataFrame` c расстояниями в папку [assets](src/assets) с названием `distance.csv`.\n",
    "А сам объединенный датасет с фильмами сохрани в папку [assets](src/assets) с названием `movies.csv`.\n",
    "\n",
    "> Получившиеся файлы `distance.csv` и `movies.csv` пушить в GitLab не нужно!"
   ]
  },
  {
   "cell_type": "code",
   "execution_count": 4,
   "metadata": {},
   "outputs": [],
   "source": [
    "# Рассчет cosine similarity\n",
    "cosine_sim = cosine_similarity(tfidf_matrix)\n",
    "\n",
    "# Создание DataFrame с расстояниями\n",
    "distance_df = pd.DataFrame(cosine_sim, index=movie_df['id'], columns=movie_df['id'])\n",
    "\n",
    "# Сохранение DataFrame с расстояниями в distance.csv\n",
    "distance_df.to_csv(\"../assets/distance.csv\")\n",
    "\n",
    "# Установка индекса и колонок согласно id фильма\n",
    "distance_df.index.name = 'id'\n",
    "distance_df.columns.name = 'id'\n",
    "\n",
    "# Сохранение объединенного датасета с фильмами в movies.csv\n",
    "movie_df.to_csv(\"../assets/movies.csv\", index=False)"
   ]
  }
 ],
 "metadata": {
  "kernelspec": {
   "display_name": "Python 3 (ipykernel)",
   "language": "python",
   "name": "python3"
  },
  "language_info": {
   "codemirror_mode": {
    "name": "ipython",
    "version": 3
   },
   "file_extension": ".py",
   "mimetype": "text/x-python",
   "name": "python",
   "nbconvert_exporter": "python",
   "pygments_lexer": "ipython3",
   "version": "3.10.11"
  }
 },
 "nbformat": 4,
 "nbformat_minor": 4
}
